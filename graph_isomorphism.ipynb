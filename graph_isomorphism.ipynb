{
 "cells": [
  {
   "cell_type": "markdown",
   "id": "ad7d30f7",
   "metadata": {},
   "source": [
    "# Graph Isomorphism\n",
    "\n",
    "<hr>"
   ]
  },
  {
   "cell_type": "markdown",
   "id": "9fafe629",
   "metadata": {},
   "source": [
    "G00389052\n",
    "Rohan Sikder"
   ]
  },
  {
   "cell_type": "markdown",
   "id": "7562a495",
   "metadata": {},
   "source": [
    "What is Graph Isomorphism?\n",
    "\n",
    "Any two graphs are considered isomorphism if it follow four certain condtions:\n",
    "- Equal amount of Vertices, Equal amount of Edges, Equal amount of degree sequence and lastly if two graphs have equal cycle length."
   ]
  },
  {
   "cell_type": "code",
   "execution_count": null,
   "id": "ca6bd167",
   "metadata": {},
   "outputs": [],
   "source": []
  }
 ],
 "metadata": {
  "kernelspec": {
   "display_name": "Python 3 (ipykernel)",
   "language": "python",
   "name": "python3"
  },
  "language_info": {
   "codemirror_mode": {
    "name": "ipython",
    "version": 3
   },
   "file_extension": ".py",
   "mimetype": "text/x-python",
   "name": "python",
   "nbconvert_exporter": "python",
   "pygments_lexer": "ipython3",
   "version": "3.9.13"
  }
 },
 "nbformat": 4,
 "nbformat_minor": 5
}
